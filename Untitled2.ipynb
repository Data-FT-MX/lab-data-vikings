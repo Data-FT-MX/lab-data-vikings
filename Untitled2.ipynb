{
 "cells": [
  {
   "cell_type": "code",
   "execution_count": 7,
   "id": "058b3fc2",
   "metadata": {},
   "outputs": [],
   "source": [
    "# Soldier\n",
    "\n",
    "\n",
    "class Soldier:\n",
    "    def __init__(self, health, strength):\n",
    "        self.strength = strength\n",
    "        self.health = health\n",
    "        \n",
    "    def attack(self):\n",
    "        return self.strength\n",
    "    \n",
    "    def receive_damage(self,damage):\n",
    "        self.damage= damage\n",
    "        self.health= self.health-self.damage\n",
    "        return \n",
    "        \n",
    "\n",
    "# Viking\n",
    "\n",
    "class Viking(Soldier):\n",
    "    def __init__(self, name, health, strength):\n",
    "        self.name = name\n",
    "        super().__init__(health, strength)\n",
    "        \n",
    "    #def attack(self):\n",
    "        #return self.strength\n",
    "    \n",
    "    def receive_damage(self,damage):\n",
    "        self.damage = damage\n",
    "        self.health = self.health - damage\n",
    "        if self.health > 0:\n",
    "            return(self.name + \" has received \"+ str(damage)+\" points of damage\")\n",
    "        else:\n",
    "            return(self.name + \" has died in act of combat\")\n",
    "    \n",
    "    def battle_cry(self):\n",
    "        return(\"Odin Owns You All!\")\n",
    "\n",
    "# Saxon\n",
    "\n",
    "class Saxon(Soldier):\n",
    "    def __init__(self, health, strength):\n",
    "        super().__init__(health, strength)\n",
    "        \n",
    "    def receive_damage(self,damage):\n",
    "        self.damage = damage\n",
    "        self.health = self.health - damage\n",
    "        if self.health > 0:\n",
    "            return(\"A Saxon has received \"+ str(damage)+\" points of damage\")\n",
    "        else:\n",
    "            return(\"A Saxon has died in act of combat\")\n",
    "\n",
    "# War\n",
    "\n",
    "\n",
    "class War:\n",
    "    pass\n"
   ]
  },
  {
   "cell_type": "code",
   "execution_count": 8,
   "id": "2efa824c",
   "metadata": {},
   "outputs": [],
   "source": [
    "soldado = Soldier(76,54)"
   ]
  },
  {
   "cell_type": "code",
   "execution_count": 9,
   "id": "c17db8bf",
   "metadata": {},
   "outputs": [
    {
     "data": {
      "text/plain": [
       "54"
      ]
     },
     "execution_count": 9,
     "metadata": {},
     "output_type": "execute_result"
    }
   ],
   "source": [
    "soldado.strength"
   ]
  },
  {
   "cell_type": "code",
   "execution_count": 10,
   "id": "b651b9de",
   "metadata": {},
   "outputs": [
    {
     "data": {
      "text/plain": [
       "76"
      ]
     },
     "execution_count": 10,
     "metadata": {},
     "output_type": "execute_result"
    }
   ],
   "source": [
    "soldado.health"
   ]
  },
  {
   "cell_type": "code",
   "execution_count": 11,
   "id": "427353e8",
   "metadata": {},
   "outputs": [
    {
     "data": {
      "text/plain": [
       "54"
      ]
     },
     "execution_count": 11,
     "metadata": {},
     "output_type": "execute_result"
    }
   ],
   "source": [
    "soldado.attack()"
   ]
  },
  {
   "cell_type": "code",
   "execution_count": 12,
   "id": "a46e6497",
   "metadata": {},
   "outputs": [],
   "source": [
    "soldado.receive_damage(20)"
   ]
  },
  {
   "cell_type": "code",
   "execution_count": 26,
   "id": "3a46799a",
   "metadata": {},
   "outputs": [],
   "source": [
    "thor=Viking(\"Harald\",5,65)"
   ]
  },
  {
   "cell_type": "code",
   "execution_count": 27,
   "id": "5da1b53a",
   "metadata": {},
   "outputs": [
    {
     "data": {
      "text/plain": [
       "5"
      ]
     },
     "execution_count": 27,
     "metadata": {},
     "output_type": "execute_result"
    }
   ],
   "source": [
    "thor.health"
   ]
  },
  {
   "cell_type": "code",
   "execution_count": 28,
   "id": "c8f159cf",
   "metadata": {},
   "outputs": [
    {
     "data": {
      "text/plain": [
       "'Harald'"
      ]
     },
     "execution_count": 28,
     "metadata": {},
     "output_type": "execute_result"
    }
   ],
   "source": [
    "thor.name"
   ]
  },
  {
   "cell_type": "code",
   "execution_count": 16,
   "id": "7248617c",
   "metadata": {},
   "outputs": [
    {
     "data": {
      "text/plain": [
       "65"
      ]
     },
     "execution_count": 16,
     "metadata": {},
     "output_type": "execute_result"
    }
   ],
   "source": [
    "thor.strength"
   ]
  },
  {
   "cell_type": "code",
   "execution_count": 17,
   "id": "248a5e8e",
   "metadata": {},
   "outputs": [
    {
     "name": "stdout",
     "output_type": "stream",
     "text": [
      "65\n"
     ]
    }
   ],
   "source": [
    "print(thor.attack())"
   ]
  },
  {
   "cell_type": "code",
   "execution_count": 18,
   "id": "fb8b7a07",
   "metadata": {},
   "outputs": [
    {
     "data": {
      "text/plain": [
       "'Daniel has died in act of combat'"
      ]
     },
     "execution_count": 18,
     "metadata": {},
     "output_type": "execute_result"
    }
   ],
   "source": [
    "thor.receive_damage(10)"
   ]
  },
  {
   "cell_type": "code",
   "execution_count": 19,
   "id": "213ad4ca",
   "metadata": {},
   "outputs": [
    {
     "data": {
      "text/plain": [
       "'Odin Owns You All!'"
      ]
     },
     "execution_count": 19,
     "metadata": {},
     "output_type": "execute_result"
    }
   ],
   "source": [
    "thor.battle_cry()"
   ]
  },
  {
   "cell_type": "code",
   "execution_count": 20,
   "id": "6878dcac",
   "metadata": {},
   "outputs": [],
   "source": [
    "sax=Saxon(100,85)"
   ]
  },
  {
   "cell_type": "code",
   "execution_count": 21,
   "id": "71b9cb92",
   "metadata": {},
   "outputs": [
    {
     "data": {
      "text/plain": [
       "100"
      ]
     },
     "execution_count": 21,
     "metadata": {},
     "output_type": "execute_result"
    }
   ],
   "source": [
    "sax.health"
   ]
  },
  {
   "cell_type": "code",
   "execution_count": 22,
   "id": "0edca9a6",
   "metadata": {},
   "outputs": [
    {
     "data": {
      "text/plain": [
       "85"
      ]
     },
     "execution_count": 22,
     "metadata": {},
     "output_type": "execute_result"
    }
   ],
   "source": [
    "sax.strength"
   ]
  },
  {
   "cell_type": "code",
   "execution_count": 23,
   "id": "98c1defe",
   "metadata": {},
   "outputs": [
    {
     "data": {
      "text/plain": [
       "85"
      ]
     },
     "execution_count": 23,
     "metadata": {},
     "output_type": "execute_result"
    }
   ],
   "source": [
    "sax.attack()"
   ]
  },
  {
   "cell_type": "code",
   "execution_count": 24,
   "id": "76886cbc",
   "metadata": {},
   "outputs": [
    {
     "data": {
      "text/plain": [
       "'A Saxon has received 90 points of damage'"
      ]
     },
     "execution_count": 24,
     "metadata": {},
     "output_type": "execute_result"
    }
   ],
   "source": [
    "sax.receive_damage(90)"
   ]
  },
  {
   "cell_type": "code",
   "execution_count": 25,
   "id": "2046a7fd",
   "metadata": {},
   "outputs": [
    {
     "data": {
      "text/plain": [
       "65"
      ]
     },
     "execution_count": 25,
     "metadata": {},
     "output_type": "execute_result"
    }
   ],
   "source": [
    "thor.attack()"
   ]
  },
  {
   "cell_type": "code",
   "execution_count": null,
   "id": "396fb9aa",
   "metadata": {},
   "outputs": [],
   "source": []
  }
 ],
 "metadata": {
  "kernelspec": {
   "display_name": "Python 3 (ipykernel)",
   "language": "python",
   "name": "python3"
  },
  "language_info": {
   "codemirror_mode": {
    "name": "ipython",
    "version": 3
   },
   "file_extension": ".py",
   "mimetype": "text/x-python",
   "name": "python",
   "nbconvert_exporter": "python",
   "pygments_lexer": "ipython3",
   "version": "3.10.3"
  }
 },
 "nbformat": 4,
 "nbformat_minor": 5
}
