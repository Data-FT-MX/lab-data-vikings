{
 "cells": [
  {
   "cell_type": "code",
   "execution_count": 1,
   "id": "e7c088f3",
   "metadata": {},
   "outputs": [
    {
     "ename": "IndentationError",
     "evalue": "expected an indented block after class definition on line 22 (668615749.py, line 23)",
     "output_type": "error",
     "traceback": [
      "\u001b[1;36m  Input \u001b[1;32mIn [1]\u001b[1;36m\u001b[0m\n\u001b[1;33m    pass\u001b[0m\n\u001b[1;37m    ^\u001b[0m\n\u001b[1;31mIndentationError\u001b[0m\u001b[1;31m:\u001b[0m expected an indented block after class definition on line 22\n"
     ]
    }
   ],
   "source": [
    "# Soldier\n",
    "\n",
    "\n",
    "class Soldier:\n",
    "    def __init__(self, health, strength):\n",
    "        self.health = health\n",
    "        self.strength = strength\n",
    "        \n",
    "    def attack(self):\n",
    "        return self.strength\n",
    "    \n",
    "    def receive_damage(self,damage):\n",
    "        rec_dam= self.health-self.damage\n",
    "        return \n",
    "    \n",
    "\n",
    "# Viking\n",
    "\n",
    "\n",
    "class Viking:\n",
    "    pass\n",
    "\n",
    "# Saxon\n",
    "\n",
    "\n",
    "class Saxon:\n",
    "    pass\n",
    "\n",
    "# War\n",
    "\n",
    "\n",
    "class War:\n",
    "pass\n"
   ]
  },
  {
   "cell_type": "code",
   "execution_count": 48,
   "id": "e888cf55",
   "metadata": {},
   "outputs": [],
   "source": [
    "class Soldier:\n",
    "    def __init__(self, health, strenght):\n",
    "        self.health = health\n",
    "        self.strenght= strenght\n",
    "        \n",
    "    def attack(self):\n",
    "        return self.strenght\n",
    "    \n",
    "    def receive_damage(self,damage):\n",
    "        rec_dam= self.health-self.damage\n",
    "        return "
   ]
  },
  {
   "cell_type": "code",
   "execution_count": 49,
   "id": "bbd17228",
   "metadata": {},
   "outputs": [
    {
     "ename": "TypeError",
     "evalue": "'int' object is not callable",
     "output_type": "error",
     "traceback": [
      "\u001b[1;31m---------------------------------------------------------------------------\u001b[0m",
      "\u001b[1;31mTypeError\u001b[0m                                 Traceback (most recent call last)",
      "Input \u001b[1;32mIn [49]\u001b[0m, in \u001b[0;36m<cell line: 2>\u001b[1;34m()\u001b[0m\n\u001b[0;32m      1\u001b[0m soldado \u001b[38;5;241m=\u001b[39m Soldier(\u001b[38;5;241m100\u001b[39m,\u001b[38;5;241m90\u001b[39m)\n\u001b[1;32m----> 2\u001b[0m \u001b[43msoldado\u001b[49m\u001b[38;5;241;43m.\u001b[39;49m\u001b[43mstrenght\u001b[49m\u001b[43m(\u001b[49m\u001b[43m)\u001b[49m\n",
      "\u001b[1;31mTypeError\u001b[0m: 'int' object is not callable"
     ]
    }
   ],
   "source": [
    "soldado = Soldier(100,90)\n",
    "soldado.strenght()\n"
   ]
  },
  {
   "cell_type": "code",
   "execution_count": 60,
   "id": "9b96be82",
   "metadata": {},
   "outputs": [],
   "source": [
    "class Soldier():\n",
    "    def __init__(self, strenght, health):\n",
    "        self.strenght = strenght\n",
    "        self.health = health\n",
    "        \n",
    "       "
   ]
  },
  {
   "cell_type": "code",
   "execution_count": 61,
   "id": "155df604",
   "metadata": {},
   "outputs": [],
   "source": [
    "soldado = Soldier(54,35)"
   ]
  },
  {
   "cell_type": "code",
   "execution_count": 62,
   "id": "6fd8338e",
   "metadata": {},
   "outputs": [
    {
     "data": {
      "text/plain": [
       "54"
      ]
     },
     "execution_count": 62,
     "metadata": {},
     "output_type": "execute_result"
    }
   ],
   "source": [
    "soldado.strenght"
   ]
  },
  {
   "cell_type": "code",
   "execution_count": null,
   "id": "797900ff",
   "metadata": {},
   "outputs": [],
   "source": []
  }
 ],
 "metadata": {
  "kernelspec": {
   "display_name": "Python 3 (ipykernel)",
   "language": "python",
   "name": "python3"
  },
  "language_info": {
   "codemirror_mode": {
    "name": "ipython",
    "version": 3
   },
   "file_extension": ".py",
   "mimetype": "text/x-python",
   "name": "python",
   "nbconvert_exporter": "python",
   "pygments_lexer": "ipython3",
   "version": "3.10.3"
  }
 },
 "nbformat": 4,
 "nbformat_minor": 5
}
