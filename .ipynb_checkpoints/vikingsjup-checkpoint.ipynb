{
 "cells": [
  {
   "cell_type": "code",
   "execution_count": 38,
   "id": "45874f7e",
   "metadata": {},
   "outputs": [],
   "source": [
    "# Soldier\n",
    "\n",
    "\n",
    "class Soldier:\n",
    "    def __init__(self, strength, health):\n",
    "        self.strength = strength\n",
    "        self.health = health\n",
    "        \n",
    "    def attack(self):\n",
    "        return self.strength\n",
    "    \n",
    "    def receive_damage(self,damage):\n",
    "        self.damage= damage\n",
    "        rec_dam= self.health-self.damage\n",
    "        return \n",
    "        \n",
    "\n",
    "# Viking\n",
    "\n",
    "class Viking(Soldier):\n",
    "    def __init__(self, name, health, strength):\n",
    "        self.name = name\n",
    "        super().__init__(health, strength)\n",
    "        \n",
    "    #def attack(self):\n",
    "        #return self.strength\n",
    "    \n",
    "    def receive_damage(self,damage):\n",
    "        self.damage = damage\n",
    "        life_points = self.health - damage\n",
    "        if life_points > 0:\n",
    "            return(self.name + \" has received \"+ str(damage)+\" points of damage\")\n",
    "        else:\n",
    "            return(self.name + \" has died in act of combat\")\n",
    "    \n",
    "    def battle_cry(self):\n",
    "        return(\"Odin Owns You All!\")\n",
    "\n",
    "# Saxon\n",
    "\n",
    "class Saxon(Soldier):\n",
    "    def __init__(self, health, strength):\n",
    "        super().__init__(health, strength)\n",
    "        \n",
    "    def receive_damage(self,damage):\n",
    "        self.damage = damage\n",
    "        life_points = self.health - damage\n",
    "        if life_points > 0:\n",
    "            return(\"A Saxon has received \"+ str(damage)+\" points of damage\")\n",
    "        else:\n",
    "            return(\"A Saxon has died in act of combat\")\n",
    "\n",
    "# War\n",
    "\n",
    "\n",
    "class War:\n",
    "    pass\n"
   ]
  },
  {
   "cell_type": "code",
   "execution_count": 6,
   "id": "45916d41",
   "metadata": {},
   "outputs": [],
   "source": [
    "#class Soldier:\n",
    "    #def __init__(self, health, strength):\n",
    "        #self.strength = strength\n",
    "        #self.health = health\n",
    "        \n",
    "    #def attack(self):\n",
    "        #return self.strength\n",
    "    \n",
    "    #def receive_damage(self,damage):\n",
    "        #self.damage= damage\n",
    "        #rec_dam= self.health-self.damage\n",
    "        #return \n",
    "        \n",
    "       "
   ]
  },
  {
   "cell_type": "code",
   "execution_count": 7,
   "id": "6b1dee34",
   "metadata": {},
   "outputs": [],
   "source": [
    "soldado = Soldier(76,54)"
   ]
  },
  {
   "cell_type": "code",
   "execution_count": 8,
   "id": "23f50516",
   "metadata": {},
   "outputs": [
    {
     "data": {
      "text/plain": [
       "54"
      ]
     },
     "execution_count": 8,
     "metadata": {},
     "output_type": "execute_result"
    }
   ],
   "source": [
    "soldado.strength"
   ]
  },
  {
   "cell_type": "code",
   "execution_count": 9,
   "id": "3de73143",
   "metadata": {},
   "outputs": [
    {
     "data": {
      "text/plain": [
       "76"
      ]
     },
     "execution_count": 9,
     "metadata": {},
     "output_type": "execute_result"
    }
   ],
   "source": [
    "soldado.health"
   ]
  },
  {
   "cell_type": "code",
   "execution_count": 10,
   "id": "726bddba",
   "metadata": {},
   "outputs": [
    {
     "data": {
      "text/plain": [
       "54"
      ]
     },
     "execution_count": 10,
     "metadata": {},
     "output_type": "execute_result"
    }
   ],
   "source": [
    "soldado.attack()"
   ]
  },
  {
   "cell_type": "code",
   "execution_count": 11,
   "id": "7860fbf9",
   "metadata": {},
   "outputs": [],
   "source": [
    "soldado.receive_damage(20)"
   ]
  },
  {
   "cell_type": "code",
   "execution_count": 12,
   "id": "7542ac4c",
   "metadata": {},
   "outputs": [],
   "source": [
    "class Viking(Soldier):\n",
    "    def __init__(self, name, health, strength):\n",
    "        self.name = name\n",
    "        super().__init__(health, strength)\n",
    "        \n",
    "    #def attack(self):\n",
    "        #return self.strength\n",
    "    \n",
    "    def receive_damage(self,damage):\n",
    "        self.damage = damage\n",
    "        life_points = self.health - damage\n",
    "        if life_points > 0:\n",
    "            return(self.name + \" has received \"+ str(damage)+\" points of damage\")\n",
    "        else:\n",
    "            return(self.name + \" has died in act of combat\")\n",
    "    \n",
    "    def battle_cry(self):\n",
    "        return(\"Odin Owns You All!\")"
   ]
  },
  {
   "cell_type": "code",
   "execution_count": 13,
   "id": "f01d3b07",
   "metadata": {},
   "outputs": [],
   "source": [
    "thor=Viking(\"Daniel\",5,65)"
   ]
  },
  {
   "cell_type": "code",
   "execution_count": 14,
   "id": "83fec2dd",
   "metadata": {},
   "outputs": [
    {
     "data": {
      "text/plain": [
       "5"
      ]
     },
     "execution_count": 14,
     "metadata": {},
     "output_type": "execute_result"
    }
   ],
   "source": [
    "thor.health"
   ]
  },
  {
   "cell_type": "code",
   "execution_count": 15,
   "id": "5fd1c1a5",
   "metadata": {},
   "outputs": [
    {
     "data": {
      "text/plain": [
       "'Daniel'"
      ]
     },
     "execution_count": 15,
     "metadata": {},
     "output_type": "execute_result"
    }
   ],
   "source": [
    "thor.name"
   ]
  },
  {
   "cell_type": "code",
   "execution_count": 16,
   "id": "f284ab95",
   "metadata": {},
   "outputs": [
    {
     "data": {
      "text/plain": [
       "'Daniel'"
      ]
     },
     "execution_count": 16,
     "metadata": {},
     "output_type": "execute_result"
    }
   ],
   "source": [
    "thor.name"
   ]
  },
  {
   "cell_type": "code",
   "execution_count": 17,
   "id": "adf0b80a",
   "metadata": {},
   "outputs": [
    {
     "data": {
      "text/plain": [
       "65"
      ]
     },
     "execution_count": 17,
     "metadata": {},
     "output_type": "execute_result"
    }
   ],
   "source": [
    "thor.strength"
   ]
  },
  {
   "cell_type": "code",
   "execution_count": 18,
   "id": "debf33e7",
   "metadata": {},
   "outputs": [
    {
     "name": "stdout",
     "output_type": "stream",
     "text": [
      "65\n"
     ]
    }
   ],
   "source": [
    "print(thor.attack())"
   ]
  },
  {
   "cell_type": "code",
   "execution_count": 19,
   "id": "2dcd4e41",
   "metadata": {},
   "outputs": [
    {
     "data": {
      "text/plain": [
       "'Daniel has died in act of combat'"
      ]
     },
     "execution_count": 19,
     "metadata": {},
     "output_type": "execute_result"
    }
   ],
   "source": [
    "thor.receive_damage(10)"
   ]
  },
  {
   "cell_type": "code",
   "execution_count": 20,
   "id": "b32b5827",
   "metadata": {},
   "outputs": [
    {
     "data": {
      "text/plain": [
       "'Odin Owns You All!'"
      ]
     },
     "execution_count": 20,
     "metadata": {},
     "output_type": "execute_result"
    }
   ],
   "source": [
    "thor.battle_cry()"
   ]
  },
  {
   "cell_type": "code",
   "execution_count": 31,
   "id": "185123ff",
   "metadata": {},
   "outputs": [],
   "source": [
    "class Saxon(Soldier):\n",
    "    def __init__(self, health, strength):\n",
    "        super().__init__(health, strength)\n",
    "        \n",
    "    def receive_damage(self,damage):\n",
    "        self.damage = damage\n",
    "        life_points = self.health - damage\n",
    "        if life_points > 0:\n",
    "            return(\"A Saxon has received \"+ str(damage)+\" points of damage\")\n",
    "        else:\n",
    "            return(\"A Saxon has died in act of combat\")\n",
    "\n"
   ]
  },
  {
   "cell_type": "code",
   "execution_count": 32,
   "id": "efcff928",
   "metadata": {},
   "outputs": [],
   "source": [
    "sax=Saxon(100,50)"
   ]
  },
  {
   "cell_type": "code",
   "execution_count": 33,
   "id": "a9615ae2",
   "metadata": {},
   "outputs": [
    {
     "data": {
      "text/plain": [
       "100"
      ]
     },
     "execution_count": 33,
     "metadata": {},
     "output_type": "execute_result"
    }
   ],
   "source": [
    "sax.health"
   ]
  },
  {
   "cell_type": "code",
   "execution_count": 34,
   "id": "f59c5b53",
   "metadata": {},
   "outputs": [
    {
     "data": {
      "text/plain": [
       "50"
      ]
     },
     "execution_count": 34,
     "metadata": {},
     "output_type": "execute_result"
    }
   ],
   "source": [
    "sax.strength"
   ]
  },
  {
   "cell_type": "code",
   "execution_count": 35,
   "id": "8d0b49bb",
   "metadata": {},
   "outputs": [
    {
     "data": {
      "text/plain": [
       "50"
      ]
     },
     "execution_count": 35,
     "metadata": {},
     "output_type": "execute_result"
    }
   ],
   "source": [
    "sax.attack()"
   ]
  },
  {
   "cell_type": "code",
   "execution_count": 37,
   "id": "818608ad",
   "metadata": {},
   "outputs": [
    {
     "data": {
      "text/plain": [
       "'A Saxon has received 90 points of damage'"
      ]
     },
     "execution_count": 37,
     "metadata": {},
     "output_type": "execute_result"
    }
   ],
   "source": [
    "sax.receive_damage(90)"
   ]
  },
  {
   "cell_type": "code",
   "execution_count": null,
   "id": "2ab1ea7e",
   "metadata": {},
   "outputs": [],
   "source": []
  }
 ],
 "metadata": {
  "kernelspec": {
   "display_name": "Python 3 (ipykernel)",
   "language": "python",
   "name": "python3"
  },
  "language_info": {
   "codemirror_mode": {
    "name": "ipython",
    "version": 3
   },
   "file_extension": ".py",
   "mimetype": "text/x-python",
   "name": "python",
   "nbconvert_exporter": "python",
   "pygments_lexer": "ipython3",
   "version": "3.10.3"
  }
 },
 "nbformat": 4,
 "nbformat_minor": 5
}
