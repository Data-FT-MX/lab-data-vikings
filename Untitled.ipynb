{
 "cells": [
  {
   "cell_type": "code",
   "execution_count": 217,
   "id": "e2ab40c5",
   "metadata": {},
   "outputs": [],
   "source": [
    "# Soldier\n",
    "\n",
    "\n",
    "class Soldier:\n",
    "    def __init__(self, strength, health):\n",
    "        self.strength = strength\n",
    "        self.health = health\n",
    "        \n",
    "    def attack(self):\n",
    "        return self.strength\n",
    "    \n",
    "    def receive_damage(self,damage):\n",
    "        self.damage= damage\n",
    "        rec_dam= self.health-self.damage\n",
    "        return \n",
    "        \n",
    "\n",
    "# Viking\n",
    "\n",
    "\n",
    "class Viking:\n",
    "    pass\n",
    "\n",
    "# Saxon\n",
    "\n",
    "\n",
    "class Saxon:\n",
    "    pass\n",
    "\n",
    "# War\n",
    "\n",
    "\n",
    "class War:\n",
    "    pass\n"
   ]
  },
  {
   "cell_type": "code",
   "execution_count": 218,
   "id": "b68ad8d8",
   "metadata": {},
   "outputs": [],
   "source": [
    "class Soldier:\n",
    "    def __init__(self, health, strength):\n",
    "        self.strength = strength\n",
    "        self.health = health\n",
    "        \n",
    "    def attack(self):\n",
    "        return self.strength\n",
    "    \n",
    "    def receive_damage(self,damage):\n",
    "        self.damage= damage\n",
    "        rec_dam= self.health-self.damage\n",
    "        return \n",
    "        \n",
    "       "
   ]
  },
  {
   "cell_type": "code",
   "execution_count": 219,
   "id": "97be6c48",
   "metadata": {},
   "outputs": [],
   "source": [
    "soldado = Soldier(76,54)"
   ]
  },
  {
   "cell_type": "code",
   "execution_count": 220,
   "id": "8719b41c",
   "metadata": {},
   "outputs": [
    {
     "data": {
      "text/plain": [
       "54"
      ]
     },
     "execution_count": 220,
     "metadata": {},
     "output_type": "execute_result"
    }
   ],
   "source": [
    "soldado.strength"
   ]
  },
  {
   "cell_type": "code",
   "execution_count": 221,
   "id": "e7d62256",
   "metadata": {},
   "outputs": [
    {
     "data": {
      "text/plain": [
       "76"
      ]
     },
     "execution_count": 221,
     "metadata": {},
     "output_type": "execute_result"
    }
   ],
   "source": [
    "soldado.health"
   ]
  },
  {
   "cell_type": "code",
   "execution_count": 222,
   "id": "9310f411",
   "metadata": {},
   "outputs": [
    {
     "data": {
      "text/plain": [
       "54"
      ]
     },
     "execution_count": 222,
     "metadata": {},
     "output_type": "execute_result"
    }
   ],
   "source": [
    "soldado.attack()"
   ]
  },
  {
   "cell_type": "code",
   "execution_count": 223,
   "id": "4c44aeb8",
   "metadata": {},
   "outputs": [],
   "source": [
    "soldado.receive_damage(20)"
   ]
  },
  {
   "cell_type": "code",
   "execution_count": 315,
   "id": "d5591b3a",
   "metadata": {},
   "outputs": [],
   "source": [
    "class Viking(Soldier):\n",
    "    def __init__(self, name, health, strength):\n",
    "        self.name = name\n",
    "        super().__init__(health, strength)\n",
    "        \n",
    "    #def attack(self):\n",
    "        #return self.strength\n",
    "        \n"
   ]
  },
  {
   "cell_type": "code",
   "execution_count": 322,
   "id": "d981db96",
   "metadata": {},
   "outputs": [],
   "source": [
    "thor=Viking(\"Daniel\",95,6500)"
   ]
  },
  {
   "cell_type": "code",
   "execution_count": 323,
   "id": "cda4af1f",
   "metadata": {},
   "outputs": [
    {
     "data": {
      "text/plain": [
       "95"
      ]
     },
     "execution_count": 323,
     "metadata": {},
     "output_type": "execute_result"
    }
   ],
   "source": [
    "thor.health"
   ]
  },
  {
   "cell_type": "code",
   "execution_count": 324,
   "id": "81de92f5",
   "metadata": {},
   "outputs": [
    {
     "data": {
      "text/plain": [
       "'Daniel'"
      ]
     },
     "execution_count": 324,
     "metadata": {},
     "output_type": "execute_result"
    }
   ],
   "source": [
    "thor.name"
   ]
  },
  {
   "cell_type": "code",
   "execution_count": 325,
   "id": "a5fd174e",
   "metadata": {},
   "outputs": [
    {
     "data": {
      "text/plain": [
       "'Daniel'"
      ]
     },
     "execution_count": 325,
     "metadata": {},
     "output_type": "execute_result"
    }
   ],
   "source": [
    "thor.name"
   ]
  },
  {
   "cell_type": "code",
   "execution_count": 326,
   "id": "5e9083b7",
   "metadata": {},
   "outputs": [
    {
     "data": {
      "text/plain": [
       "6500"
      ]
     },
     "execution_count": 326,
     "metadata": {},
     "output_type": "execute_result"
    }
   ],
   "source": [
    "thor.strength"
   ]
  },
  {
   "cell_type": "code",
   "execution_count": 327,
   "id": "933fb095",
   "metadata": {},
   "outputs": [
    {
     "name": "stdout",
     "output_type": "stream",
     "text": [
      "6500\n"
     ]
    }
   ],
   "source": [
    "print(thor.attack())"
   ]
  },
  {
   "cell_type": "code",
   "execution_count": null,
   "id": "6432819a",
   "metadata": {},
   "outputs": [],
   "source": []
  },
  {
   "cell_type": "code",
   "execution_count": null,
   "id": "f1e40a82",
   "metadata": {},
   "outputs": [],
   "source": []
  }
 ],
 "metadata": {
  "kernelspec": {
   "display_name": "Python 3 (ipykernel)",
   "language": "python",
   "name": "python3"
  },
  "language_info": {
   "codemirror_mode": {
    "name": "ipython",
    "version": 3
   },
   "file_extension": ".py",
   "mimetype": "text/x-python",
   "name": "python",
   "nbconvert_exporter": "python",
   "pygments_lexer": "ipython3",
   "version": "3.10.3"
  }
 },
 "nbformat": 4,
 "nbformat_minor": 5
}
