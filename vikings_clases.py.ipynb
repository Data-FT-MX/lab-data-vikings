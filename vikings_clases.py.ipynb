{
 "cells": [
  {
   "cell_type": "code",
   "execution_count": null,
   "id": "dbf851ed",
   "metadata": {},
   "outputs": [],
   "source": [
    "#Soldier\n",
    "class Soldier:\n",
    "    def __init__(self,health,strength):\n",
    "        self.health=health\n",
    "        self.strength=strength\n",
    "    \n",
    "##attack() method\n",
    "    def attack(self):\n",
    "        self.strenght\n",
    "\n",
    "#recive_damage method\n",
    "    def receive_damage(self):\n",
    "        self.health\n",
    "\n",
    "# Viking\n",
    "class Viking(Soldier):\n",
    "    def __init__(self,name,health,strength):\n",
    "        self.name=name\n",
    "        super().__init__(health,strength)\n",
    "\n",
    "##attack() method\n",
    "    def attack(self):\n",
    "        self.strenght\n",
    "\n",
    "#recive_damage method\n",
    "    def receive_damage(self):\n",
    "        if Viking.receive_damage>0:\n",
    "            print(name + \" has recived \" + Viking.receive_damage + \" points of damage\"\n",
    "        else:\n",
    "            print(name + \" has died in act of combat.\")\n",
    "        \n",
    "        \n",
    "#New Method battle_cry(self)\n",
    "    def battle_cry(self):\n",
    "        return \"Odin Owns You All!\"\n",
    "\n",
    "# Saxon\n",
    "class Saxon(Soldier):\n",
    "    pass\n",
    "        \n",
    "#recive_damage method\n",
    "    def receive_damage(self):\n",
    "        if Saxon.receive_damage>0:\n",
    "            print(\"A Saxon has recived \" + Saxon.receive_damage + \" points of damage.\")\n",
    "        else:\n",
    "            print(\"Saxon has died in act of combat\")"
   ]
  }
 ],
 "metadata": {
  "kernelspec": {
   "display_name": "Python 3 (ipykernel)",
   "language": "python",
   "name": "python3"
  },
  "language_info": {
   "codemirror_mode": {
    "name": "ipython",
    "version": 3
   },
   "file_extension": ".py",
   "mimetype": "text/x-python",
   "name": "python",
   "nbconvert_exporter": "python",
   "pygments_lexer": "ipython3",
   "version": "3.10.3"
  }
 },
 "nbformat": 4,
 "nbformat_minor": 5
}
